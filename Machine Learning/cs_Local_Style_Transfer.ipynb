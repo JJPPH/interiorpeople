{
  "nbformat": 4,
  "nbformat_minor": 0,
  "metadata": {
    "colab": {
      "name": "(resnet)cs_entire_Local_Style_Transfer.ipynb",
      "provenance": [],
      "collapsed_sections": [],
      "machine_shape": "hm"
    },
    "kernelspec": {
      "name": "python3",
      "display_name": "Python 3"
    },
    "language_info": {
      "name": "python"
    },
    "accelerator": "GPU"
  },
  "cells": [
    {
      "cell_type": "markdown",
      "metadata": {
        "id": "g1b41gRNrfl7"
      },
      "source": [
        "# 사용자가 업로드한 사진에 대해 Instance Segmentaiton 진행"
      ]
    },
    {
      "cell_type": "code",
      "metadata": {
        "id": "Xm68CFz8fpRX",
        "colab": {
          "base_uri": "https://localhost:8080/"
        },
        "outputId": "ffc2d8d9-a988-4648-dd52-f621a1351696"
      },
      "source": [
        "from google.colab import drive\n",
        "drive.mount('/content/drive')"
      ],
      "execution_count": null,
      "outputs": [
        {
          "output_type": "stream",
          "name": "stdout",
          "text": [
            "Mounted at /content/drive\n"
          ]
        }
      ]
    },
    {
      "cell_type": "code",
      "metadata": {
        "colab": {
          "base_uri": "https://localhost:8080/"
        },
        "id": "XyJ6beYCrNzD",
        "outputId": "4862acad-eb1f-4478-d32d-0fb4175f4361"
      },
      "source": [
        "cd drive/MyDrive/2021_capstone/yolact-master"
      ],
      "execution_count": null,
      "outputs": [
        {
          "output_type": "stream",
          "name": "stdout",
          "text": [
            "/content/drive/MyDrive/2021_capstone/yolact-master\n"
          ]
        }
      ]
    },
    {
      "cell_type": "code",
      "metadata": {
        "colab": {
          "base_uri": "https://localhost:8080/"
        },
        "id": "kD-ulLA7sKZj",
        "outputId": "75f85a2d-64c0-4517-ddb7-8fc0180e1517"
      },
      "source": [
        "ls"
      ],
      "execution_count": null,
      "outputs": [
        {
          "output_type": "stream",
          "name": "stdout",
          "text": [
            "backbone.py                     \u001b[0m\u001b[01;34mexternal\u001b[0m/             \u001b[01;34mscripts\u001b[0m/\n",
            "CHANGELOG.md                    func_segmentation.py  train.py\n",
            "\u001b[01;34mdata\u001b[0m/                           \u001b[01;34mlayers\u001b[0m/               \u001b[01;34mutils\u001b[0m/\n",
            "entire_local_style_transfer.py  LICENSE               \u001b[01;34mweb\u001b[0m/\n",
            "environment.yml                 README.md             yolact.py\n",
            "eval.py                         run_coco_eval.py\n"
          ]
        }
      ]
    },
    {
      "cell_type": "markdown",
      "metadata": {
        "id": "62Nueen9OMIW"
      },
      "source": [
        "## Pretrained 된 pth file로 segmentation 진행"
      ]
    },
    {
      "cell_type": "code",
      "metadata": {
        "colab": {
          "base_uri": "https://localhost:8080/"
        },
        "id": "4BFqNFtxOP1O",
        "outputId": "e1ce1a9e-088c-427a-e9e5-923ac5bcac05"
      },
      "source": [
        "!python func_segmentation.py --trained_model=weights/yolact/yolact_base_54_800000.pth --score_threshold=0.15 --top_k=15 --image=data/train/images/test_bedroom1.jpg:data/eval_result/test_bedroom1.jpg --display_bbox=False --display_text=False "
      ],
      "execution_count": null,
      "outputs": [
        {
          "output_type": "stream",
          "name": "stdout",
          "text": [
            "Config not specified. Parsed yolact_base_config from the file name.\n",
            "\n",
            "/usr/local/lib/python3.7/dist-packages/torch/jit/_recursive.py:235: UserWarning: 'lat_layers' was found in ScriptModule constants,  but it is a non-constant submodule. Consider removing it.\n",
            "  \" but it is a non-constant {}. Consider removing it.\".format(name, hint))\n",
            "/usr/local/lib/python3.7/dist-packages/torch/jit/_recursive.py:235: UserWarning: 'downsample_layers' was found in ScriptModule constants,  but it is a non-constant submodule. Consider removing it.\n",
            "  \" but it is a non-constant {}. Consider removing it.\".format(name, hint))\n",
            "/usr/local/lib/python3.7/dist-packages/torch/jit/_recursive.py:235: UserWarning: 'pred_layers' was found in ScriptModule constants,  but it is a non-constant submodule. Consider removing it.\n",
            "  \" but it is a non-constant {}. Consider removing it.\".format(name, hint))\n",
            "Loading model... Done.\n",
            "bbox_label_list :  [[array([340, 195, 845, 460]), 'bed00'], [array([ 31, 198, 220, 438]), 'chair01'], [array([383,  23, 591, 302]), 'potted plant02'], [array([251, 218, 443, 333]), 'couch03'], [array([217, 269, 240, 291]), 'vase04'], [array([188, 238, 221, 290]), 'vase05'], [array([350, 173, 806, 459]), 'couch06'], [array([159, 167, 255, 301]), 'potted plant07'], [array([217, 269, 240, 291]), 'cup08']]\n"
          ]
        }
      ]
    },
    {
      "cell_type": "markdown",
      "metadata": {
        "id": "jqzY0zn8rYEP"
      },
      "source": [
        "# 사용자가 원하는 object 및 스타일을 선택한 이후 Local Style Transfer"
      ]
    },
    {
      "cell_type": "code",
      "metadata": {
        "id": "1dk9xbjBRWEL"
      },
      "source": [
        "!python entire_local_style_transfer.py --image_path \"./fg_bg/\" --targets \"bed00, chair01\" --vgg_path \"./weights/style_transfer/vgg_normalised.pth\" --decoder_path \"./weights/style_transfer/decoder.pth\" --content_image \"./data/train/images/test_bedroom1.jpg\" --style_image \"./data/style/classic/red.jpg\" --output_style_path \"./fg_bg/stylized.jpg\" --style_intensity \"Middle\" --fg_image_path \"./fg_bg/fg_result.jpg\" --bg_image_path \"./fg_bg/bg_result.jpg\" --stylized_image_path \"./fg_bg/stylized.jpg\" --output_local_style_path \"./local_stylized.jpg\""
      ],
      "execution_count": null,
      "outputs": []
    }
  ]
}