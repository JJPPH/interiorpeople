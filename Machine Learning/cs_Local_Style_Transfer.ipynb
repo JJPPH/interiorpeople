{
  "nbformat": 4,
  "nbformat_minor": 0,
  "metadata": {
    "accelerator": "GPU",
    "colab": {
      "name": "(resnet)cs_entire_Local_Style_Transfer.ipynb",
      "provenance": [],
      "collapsed_sections": [],
      "machine_shape": "hm"
    },
    "kernelspec": {
      "display_name": "Python 3",
      "name": "python3"
    },
    "language_info": {
      "name": "python"
    }
  },
  "cells": [
    {
      "cell_type": "markdown",
      "metadata": {
        "id": "g1b41gRNrfl7"
      },
      "source": [
        "# 사용자가 업로드한 사진에 대해 Instance Segmentaiton 진행"
      ]
    },
    {
      "cell_type": "code",
      "metadata": {
        "colab": {
          "base_uri": "https://localhost:8080/"
        },
        "id": "Xm68CFz8fpRX",
        "outputId": "83946900-f75f-4fb2-977b-27d6631519a5"
      },
      "source": [
        "from google.colab import drive\n",
        "drive.mount('/content/drive')"
      ],
      "execution_count": 32,
      "outputs": [
        {
          "output_type": "stream",
          "name": "stdout",
          "text": [
            "Drive already mounted at /content/drive; to attempt to forcibly remount, call drive.mount(\"/content/drive\", force_remount=True).\n"
          ]
        }
      ]
    },
    {
      "cell_type": "code",
      "metadata": {
        "colab": {
          "base_uri": "https://localhost:8080/"
        },
        "id": "XyJ6beYCrNzD",
        "outputId": "83270847-5965-4bee-9016-d0c1570d2392"
      },
      "source": [
        "cd drive/MyDrive/2021_capstone/Local_Style_Transfer"
      ],
      "execution_count": 33,
      "outputs": [
        {
          "output_type": "stream",
          "name": "stdout",
          "text": [
            "[Errno 2] No such file or directory: 'drive/MyDrive/2021_capstone/Local_Style_Transfer'\n",
            "/content/drive/MyDrive/2021_capstone/Local_Style_Transfer\n"
          ]
        }
      ]
    },
    {
      "cell_type": "code",
      "metadata": {
        "colab": {
          "base_uri": "https://localhost:8080/"
        },
        "id": "kD-ulLA7sKZj",
        "outputId": "a87ff18e-bc1d-49e6-9bc3-a1b3036b50b3"
      },
      "source": [
        "ls"
      ],
      "execution_count": 34,
      "outputs": [
        {
          "output_type": "stream",
          "name": "stdout",
          "text": [
            "backbone.py                     ilsvrc2012_wordnet_lemmas.txt  requirements.txt\n",
            "CHANGELOG.md                    image_similarity.py            \u001b[0m\u001b[01;34mresults\u001b[0m/\n",
            "chromedriver                    item_recommend.py              run_coco_eval.py\n",
            "chromedriver.exe                \u001b[01;34mlayers\u001b[0m/                        \u001b[01;34mscripts\u001b[0m/\n",
            "\u001b[01;34mcrawling_image\u001b[0m/                 LICENSE                        \u001b[01;34msearch_image\u001b[0m/\n",
            "\u001b[01;34mdata\u001b[0m/                           local_stylized.jpg             \u001b[01;34mtopk_sim_image\u001b[0m/\n",
            "entire_local_style_transfer.py  \u001b[01;34mmeta-data-files\u001b[0m/               train.py\n",
            "environment.yml                 out.csv                        url.txt\n",
            "eval.py                         product_recommend.py           \u001b[01;34mutils\u001b[0m/\n",
            "\u001b[01;34mexternal\u001b[0m/                       \u001b[01;34m__pycache__\u001b[0m/                   \u001b[01;34mweb\u001b[0m/\n",
            "\u001b[01;34mfg_bg\u001b[0m/                          \u001b[01;34mpyimagesearch\u001b[0m/                 \u001b[01;34mweights\u001b[0m/\n",
            "func_segmentation.py            README.md                      yolact.py\n"
          ]
        }
      ]
    },
    {
      "cell_type": "markdown",
      "metadata": {
        "id": "62Nueen9OMIW"
      },
      "source": [
        "## Pretrained 된 pth file로 segmentation 진행"
      ]
    },
    {
      "cell_type": "code",
      "metadata": {
        "colab": {
          "base_uri": "https://localhost:8080/"
        },
        "id": "4BFqNFtxOP1O",
        "outputId": "aef0cce7-018c-4823-a04e-8ed17165c9cd"
      },
      "source": [
        "!python func_segmentation.py --trained_model=weights/yolact/yolact_base_54_800000.pth --score_threshold=0.15 --top_k=15 --image=data/train/images/test_bedroom1.jpg:data/eval_result/test_bedroom1.jpg --display_bbox=False --display_text=False "
      ],
      "execution_count": 35,
      "outputs": [
        {
          "output_type": "stream",
          "name": "stdout",
          "text": [
            "Config not specified. Parsed yolact_base_config from the file name.\n",
            "\n",
            "/usr/local/lib/python3.7/dist-packages/torch/jit/_recursive.py:235: UserWarning: 'downsample_layers' was found in ScriptModule constants,  but it is a non-constant submodule. Consider removing it.\n",
            "  \" but it is a non-constant {}. Consider removing it.\".format(name, hint))\n",
            "/usr/local/lib/python3.7/dist-packages/torch/jit/_recursive.py:235: UserWarning: 'lat_layers' was found in ScriptModule constants,  but it is a non-constant submodule. Consider removing it.\n",
            "  \" but it is a non-constant {}. Consider removing it.\".format(name, hint))\n",
            "/usr/local/lib/python3.7/dist-packages/torch/jit/_recursive.py:235: UserWarning: 'pred_layers' was found in ScriptModule constants,  but it is a non-constant submodule. Consider removing it.\n",
            "  \" but it is a non-constant {}. Consider removing it.\".format(name, hint))\n",
            "Loading model... Done.\n",
            "bbox_label_list :  [[array([340, 195, 845, 460]), 'bed00'], [array([ 31, 198, 220, 438]), 'chair01'], [array([383,  23, 591, 302]), 'potted plant02'], [array([251, 218, 443, 333]), 'couch03'], [array([217, 269, 240, 291]), 'vase04'], [array([188, 238, 221, 290]), 'vase05'], [array([350, 173, 806, 459]), 'couch06'], [array([159, 167, 255, 301]), 'potted plant07'], [array([217, 269, 240, 291]), 'cup08']]\n"
          ]
        }
      ]
    },
    {
      "cell_type": "markdown",
      "metadata": {
        "id": "jqzY0zn8rYEP"
      },
      "source": [
        "# 사용자가 원하는 object 및 스타일을 선택한 이후 Local Style Transfer"
      ]
    },
    {
      "cell_type": "code",
      "metadata": {
        "id": "1dk9xbjBRWEL"
      },
      "source": [
        "!python entire_local_style_transfer.py --image_path \"./fg_bg/\" --targets \"bed00, chair01\" --vgg_path \"./weights/style_transfer/vgg_normalised.pth\" --decoder_path \"./weights/style_transfer/decoder.pth\" --content_image \"./data/train/images/test_bedroom1.jpg\" --style_image \"./data/style/modern/blue.jpg\" --output_style_path \"./fg_bg/stylized.jpg\" --style_intensity \"Middle\" --fg_image_path \"./fg_bg/fg_result.jpg\" --bg_image_path \"./fg_bg/bg_result.jpg\" --stylized_image_path \"./fg_bg/stylized.jpg\" --output_local_style_path \"./local_stylized.jpg\""
      ],
      "execution_count": 36,
      "outputs": []
    },
    {
      "cell_type": "markdown",
      "metadata": {
        "id": "h8jAE3arNOkg"
      },
      "source": [
        "## 유사 이미지 검색"
      ]
    },
    {
      "cell_type": "code",
      "metadata": {
        "colab": {
          "base_uri": "https://localhost:8080/"
        },
        "id": "_k86UDVDi86E",
        "outputId": "f658249b-5a9f-4c72-e111-5953c4de4e8c"
      },
      "source": [
        "!python item_recommend.py --targets \"bed00, chair01\" --search_img_path \"./fg_bg/stylized.jpg\" --crawling_img_path \"./crawling_image/\" --color \"blue\""
      ],
      "execution_count": 37,
      "outputs": [
        {
          "output_type": "stream",
          "name": "stdout",
          "text": [
            "[['./crawling_image/bed00/bed00.jpg', 'https://amazon.com/Utopia-Bedding-Parure-Lit-Microfibre/dp/B07S8RXW4V/ref=sr_1_1?keywords=blue+bed+set&qid=1638894741&sr=8-1', '28,127원'], ['./crawling_image/bed00/bed02.jpg', 'https://amazon.com/Utopia-Bedding-Housse-Couette-imprim%C3%A9e/dp/B078RKXNNN/ref=sr_1_3?keywords=blue+bed+set&qid=1638894741&sr=8-3', '24,107원'], ['./crawling_image/bed00/bed03.jpg', 'https://amazon.com/Utopia-Bedding-Ensemble-Draps-Microfibre/dp/B07SDF5ZRG/ref=sr_1_4?keywords=blue+bed+set&qid=1638894741&sr=8-4', '26,787원']]\n",
            "[['./crawling_image/chair01/chair00.jpg', 'https://amazon.com/VanderHOME-Slipcover-Polyester-Furniture-Protector/dp/B08MBX91GP/ref=sr_1_1?keywords=blue+sofa+chair&qid=1638894743&sr=8-1', '54,927원'], ['./crawling_image/chair01/chair03.jpg', 'https://amazon.com/HSBAIS-Housse-canap%C3%A9-Cover-Couverture/dp/B07KX1W9SM/ref=sr_1_4?keywords=blue+sofa+chair&qid=1638894743&sr=8-4', '83,067원'], ['./crawling_image/chair01/chair04.jpg', 'https://amazon.com/Nordic-Seater-Dossier-Paresseuse-Loisirs/dp/B07SY6TLRB/ref=sr_1_5?keywords=blue+sofa+chair&qid=1638894743&sr=8-5', '898,537원']]\n",
            "[[['./crawling_image/bed00/bed00.jpg', 'https://amazon.com/Utopia-Bedding-Parure-Lit-Microfibre/dp/B07S8RXW4V/ref=sr_1_1?keywords=blue+bed+set&qid=1638894741&sr=8-1', '28,127원'], ['./crawling_image/bed00/bed02.jpg', 'https://amazon.com/Utopia-Bedding-Housse-Couette-imprim%C3%A9e/dp/B078RKXNNN/ref=sr_1_3?keywords=blue+bed+set&qid=1638894741&sr=8-3', '24,107원'], ['./crawling_image/bed00/bed03.jpg', 'https://amazon.com/Utopia-Bedding-Ensemble-Draps-Microfibre/dp/B07SDF5ZRG/ref=sr_1_4?keywords=blue+bed+set&qid=1638894741&sr=8-4', '26,787원']], [['./crawling_image/chair01/chair00.jpg', 'https://amazon.com/VanderHOME-Slipcover-Polyester-Furniture-Protector/dp/B08MBX91GP/ref=sr_1_1?keywords=blue+sofa+chair&qid=1638894743&sr=8-1', '54,927원'], ['./crawling_image/chair01/chair03.jpg', 'https://amazon.com/HSBAIS-Housse-canap%C3%A9-Cover-Couverture/dp/B07KX1W9SM/ref=sr_1_4?keywords=blue+sofa+chair&qid=1638894743&sr=8-4', '83,067원'], ['./crawling_image/chair01/chair04.jpg', 'https://amazon.com/Nordic-Seater-Dossier-Paresseuse-Loisirs/dp/B07SY6TLRB/ref=sr_1_5?keywords=blue+sofa+chair&qid=1638894743&sr=8-5', '898,537원']]]\n",
            "Done\n"
          ]
        }
      ]
    }
  ]
}