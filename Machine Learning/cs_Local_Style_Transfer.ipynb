{
  "nbformat": 4,
  "nbformat_minor": 0,
  "metadata": {
    "colab": {
      "name": "cs_Local_Style_Transfer.ipynb",
      "provenance": [],
      "collapsed_sections": [
        "Pb4TAygwz7Q3",
        "w8QonEe90Mlu"
      ]
    },
    "kernelspec": {
      "name": "python3",
      "display_name": "Python 3"
    },
    "language_info": {
      "name": "python"
    },
    "accelerator": "GPU"
  },
  "cells": [
    {
      "cell_type": "markdown",
      "metadata": {
        "id": "g1b41gRNrfl7"
      },
      "source": [
        "# 사용자가 업로드한 사진에 대해 Instance Segmentaiton 진행"
      ]
    },
    {
      "cell_type": "code",
      "metadata": {
        "id": "Xm68CFz8fpRX",
        "colab": {
          "base_uri": "https://localhost:8080/"
        },
        "outputId": "3decefc2-6ba1-49ec-a917-1390a1625977"
      },
      "source": [
        "from google.colab import drive\n",
        "drive.mount('/content/drive')"
      ],
      "execution_count": 1,
      "outputs": [
        {
          "output_type": "stream",
          "name": "stdout",
          "text": [
            "Mounted at /content/drive\n"
          ]
        }
      ]
    },
    {
      "cell_type": "code",
      "metadata": {
        "colab": {
          "base_uri": "https://localhost:8080/"
        },
        "id": "XyJ6beYCrNzD",
        "outputId": "94a4e94b-983b-467a-c333-ac0e3a26686a"
      },
      "source": [
        "cd drive/MyDrive/2021_capstone/cs_Local_Style_Transfer"
      ],
      "execution_count": 2,
      "outputs": [
        {
          "output_type": "stream",
          "name": "stdout",
          "text": [
            "/content/drive/MyDrive/2021_capstone/cs_Local_Style_Transfer\n"
          ]
        }
      ]
    },
    {
      "cell_type": "code",
      "metadata": {
        "colab": {
          "base_uri": "https://localhost:8080/"
        },
        "id": "kD-ulLA7sKZj",
        "outputId": "99481d8b-cd10-4ef2-accf-fd6aed272287"
      },
      "source": [
        "ls"
      ],
      "execution_count": 3,
      "outputs": [
        {
          "output_type": "stream",
          "name": "stdout",
          "text": [
            "backbone.py              local_stylized.jpg              run_coco_eval.py\n",
            "\u001b[0m\u001b[01;34mdata\u001b[0m/                    \u001b[01;34mlogs\u001b[0m/                           style_transfer.py\n",
            "eval.py                  mask_data.npy                   train.py\n",
            "\u001b[01;34mfg_bg\u001b[0m/                   merge_fg_bg.py                  \u001b[01;34mutils\u001b[0m/\n",
            "\u001b[01;34mlabelme2coco\u001b[0m/            \u001b[01;34mpth\u001b[0m/                            \u001b[01;34mweights\u001b[0m/\n",
            "\u001b[01;34mlayers\u001b[0m/                  \u001b[01;34m__pycache__\u001b[0m/                    yolact.py\n",
            "LICENSE                  python_execution_command.ipynb\n",
            "local_style_transfer.py  README.md\n"
          ]
        }
      ]
    },
    {
      "cell_type": "markdown",
      "metadata": {
        "id": "Pb4TAygwz7Q3"
      },
      "source": [
        "## 1. Custom Data Training (Make pth file)"
      ]
    },
    {
      "cell_type": "code",
      "metadata": {
        "id": "oWnIXxr_sLDj"
      },
      "source": [
        "# !python train.py --config=yolact_resnet50_cig_indoor_config --batch_size=2\n",
        "# !python train.py --config=yolact_resnet50_cig_indoor_config --resume=weights/resnet50-19c8e357.pth --start_iter=0 --batch_size=3"
      ],
      "execution_count": 4,
      "outputs": []
    },
    {
      "cell_type": "markdown",
      "metadata": {
        "id": "w8QonEe90Mlu"
      },
      "source": [
        "## 2. Custom Train된 pth file로 Test"
      ]
    },
    {
      "cell_type": "code",
      "metadata": {
        "colab": {
          "base_uri": "https://localhost:8080/"
        },
        "id": "iIas_jlcsVvh",
        "outputId": "f550c909-6dfa-48c4-c2b6-b797843a053e"
      },
      "source": [
        "!python eval.py --trained_model=weights/yolact_plus_resnet50_cig_indoor_78_869_interrupt.pth --config=yolact_resnet50_cig_indoor_config --score_threshold=0.3 --top_k=15 --image=data/train/images/kor_bedroom1.jpg:data/eval_result/kor_bedroom1.jpg --display_bbox=False --display_text=False "
      ],
      "execution_count": 5,
      "outputs": [
        {
          "output_type": "stream",
          "name": "stdout",
          "text": [
            "torch.cuda.is_available :  True\n",
            "Loading model...path :  weights/yolact_plus_resnet50_cig_indoor_78_869_interrupt.pth\n",
            " Done.\n",
            "bbox_label_list :  [[array([  0, 241, 307, 482]), 'pillow00'], [array([319, 398, 386, 486]), 'tv01'], [array([269, 356, 324, 458]), 'tv02'], [array([301, 343, 403, 498]), 'tv03']]\n"
          ]
        }
      ]
    },
    {
      "cell_type": "markdown",
      "metadata": {
        "id": "jqzY0zn8rYEP"
      },
      "source": [
        "# 사용자가 원하는 object 및 스타일을 선택한 이후 Local Style Transfer"
      ]
    },
    {
      "cell_type": "code",
      "metadata": {
        "id": "Q_61dXUUiT_6"
      },
      "source": [
        "targets = ['tv01', 'tv02', 'tv03', 'pillow00'] # multiple objects selected\n",
        "# targets = ['pillow00'] # one object selected"
      ],
      "execution_count": 6,
      "outputs": []
    },
    {
      "cell_type": "markdown",
      "metadata": {
        "id": "eM2-ndoc2wOf"
      },
      "source": [
        "### 1. 사용자가 선택한 object의 fg, bg 이미지 전처리"
      ]
    },
    {
      "cell_type": "code",
      "metadata": {
        "colab": {
          "base_uri": "https://localhost:8080/"
        },
        "id": "Qvf65lydQB3a",
        "outputId": "3f245e6c-6456-49d0-93bd-9144a43127b0"
      },
      "source": [
        "!python merge_fg_bg.py --image_path './fg_bg'"
      ],
      "execution_count": 7,
      "outputs": [
        {
          "output_type": "stream",
          "name": "stdout",
          "text": [
            "Traceback (most recent call last):\n",
            "  File \"merge_fg_bg.py\", line 53, in <module>\n",
            "    if len(targets)>=2:\n",
            "NameError: name 'targets' is not defined\n"
          ]
        }
      ]
    },
    {
      "cell_type": "markdown",
      "metadata": {
        "id": "vWfL7-Hv6x4p"
      },
      "source": [
        "### 2. 사용자가 입력한 테마 이미지 혹은 설정한 스타일에 따른 전체 스타일 변화 이미지 생성"
      ]
    },
    {
      "cell_type": "code",
      "metadata": {
        "id": "JJvxGdDv2oJo"
      },
      "source": [
        "!python style_transfer.py --vgg_path './pth/style_transfer/vgg_normalised.pth' --decoder_path './pth/style_transfer/decoder.pth' --content_image './data/train/images/kor_bedroom1.jpg' --style_image './data/style/classic_brown.jpg' --output_path './fg_bg/stylized.jpg'"
      ],
      "execution_count": 17,
      "outputs": []
    },
    {
      "cell_type": "markdown",
      "metadata": {
        "id": "M_hYGwr-D7Ou"
      },
      "source": [
        "### 3. 전처리된 이미지 조합하여 Local Style Transferred 이미지 생성"
      ]
    },
    {
      "cell_type": "code",
      "metadata": {
        "id": "l_Z7Div2N1QB"
      },
      "source": [
        "!python local_style_transfer.py --fg_image_path \"./fg_bg/fg_result.jpg\" --bg_image_path \"./fg_bg/bg_result.jpg\" --stylized_image_path \"./fg_bg/stylized.jpg\" --output_path \"./local_stylized.jpg\""
      ],
      "execution_count": 18,
      "outputs": []
    }
  ]
}