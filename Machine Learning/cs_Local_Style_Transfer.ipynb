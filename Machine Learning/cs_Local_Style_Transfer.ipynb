{
 "cells": [
  {
   "cell_type": "markdown",
   "metadata": {
    "id": "g1b41gRNrfl7"
   },
   "source": [
    "# 사용자가 업로드한 사진에 대해 Instance Segmentaiton 진행"
   ]
  },
  {
   "cell_type": "code",
   "execution_count": 1,
   "metadata": {
    "colab": {
     "base_uri": "https://localhost:8080/"
    },
    "id": "Xm68CFz8fpRX",
    "outputId": "00baf5fe-5124-46fe-fb2a-5889ff5ec042"
   },
   "outputs": [
    {
     "name": "stdout",
     "output_type": "stream",
     "text": [
      "Mounted at /content/drive\n"
     ]
    }
   ],
   "source": [
    "from google.colab import drive\n",
    "drive.mount('/content/drive')"
   ]
  },
  {
   "cell_type": "code",
   "execution_count": 2,
   "metadata": {
    "colab": {
     "base_uri": "https://localhost:8080/"
    },
    "id": "XyJ6beYCrNzD",
    "outputId": "1912400c-c82a-4859-a04c-c717cce89e33"
   },
   "outputs": [
    {
     "name": "stdout",
     "output_type": "stream",
     "text": [
      "/content/drive/MyDrive/2021_capstone/cs_Local_Style_Transfer\n"
     ]
    }
   ],
   "source": [
    "cd drive/MyDrive/2021_capstone/cs_Local_Style_Transfer"
   ]
  },
  {
   "cell_type": "code",
   "execution_count": 3,
   "metadata": {
    "colab": {
     "base_uri": "https://localhost:8080/"
    },
    "id": "kD-ulLA7sKZj",
    "outputId": "b8e1171f-a0f0-40c3-80fa-cf144bcf2c97"
   },
   "outputs": [
    {
     "name": "stdout",
     "output_type": "stream",
     "text": [
      "backbone.py                     merge_fg_bg.py\n",
      "\u001b[0m\u001b[01;34mdata\u001b[0m/                           \u001b[01;34mpth\u001b[0m/\n",
      "entire_local_style_transfer.py  \u001b[01;34m__pycache__\u001b[0m/\n",
      "eval.py                         python_execution_command.ipynb\n",
      "\u001b[01;34mfg_bg\u001b[0m/                          README.md\n",
      "\u001b[01;34mlabelme2coco\u001b[0m/                   \u001b[01;34mresults\u001b[0m/\n",
      "\u001b[01;34mlayers\u001b[0m/                         run_coco_eval.py\n",
      "LICENSE                         style_transfer.py\n",
      "local_style_transfer.py         train.py\n",
      "local_stylized.jpg              \u001b[01;34mutils\u001b[0m/\n",
      "\u001b[01;34mlogs\u001b[0m/                           \u001b[01;34mweights\u001b[0m/\n",
      "mask_data.npy                   yolact.py\n"
     ]
    }
   ],
   "source": [
    "ls"
   ]
  },
  {
   "cell_type": "markdown",
   "metadata": {
    "id": "Pb4TAygwz7Q3"
   },
   "source": [
    "## 1. Custom Data Training (Make pth file)"
   ]
  },
  {
   "cell_type": "code",
   "execution_count": null,
   "metadata": {
    "id": "oWnIXxr_sLDj"
   },
   "outputs": [],
   "source": [
    "# !python train.py --config=yolact_resnet50_cig_indoor_config --batch_size=2\n",
    "# !python train.py --config=yolact_resnet50_cig_indoor_config --resume=weights/resnet50-19c8e357.pth --start_iter=0 --batch_size=3"
   ]
  },
  {
   "cell_type": "markdown",
   "metadata": {
    "id": "w8QonEe90Mlu"
   },
   "source": [
    "## 2. Custom Train된 pth file로 Test"
   ]
  },
  {
   "cell_type": "code",
   "execution_count": 10,
   "metadata": {
    "colab": {
     "base_uri": "https://localhost:8080/"
    },
    "id": "iIas_jlcsVvh",
    "outputId": "e330a599-655b-4b4a-bf22-a63836658154"
   },
   "outputs": [
    {
     "name": "stdout",
     "output_type": "stream",
     "text": [
      "torch.cuda.is_available :  True\n",
      "Loading model...path :  weights/yolact_plus_resnet50_cig_indoor_78_869_interrupt.pth\n",
      " Done.\n"
     ]
    }
   ],
   "source": [
    "!python segmentation.py --trained_model=weights/yolact_plus_resnet50_cig_indoor_2473_4947_interrupt.pth --config=yolact_resnet50_cig_indoor_config --score_threshold=0.3 --top_k=15 --image=data/train/images/kor_bedroom1.jpg:data/eval_result/kor_bedroom1.jpg --display_bbox=False --display_text=False "
   ]
  },
  {
   "cell_type": "markdown",
   "metadata": {
    "id": "jqzY0zn8rYEP"
   },
   "source": [
    "# 사용자가 원하는 object 및 스타일을 선택한 이후 Local Style Transfer"
   ]
  },
  {
   "cell_type": "code",
   "execution_count": 7,
   "metadata": {
    "id": "1dk9xbjBRWEL"
   },
   "outputs": [],
   "source": [
    "!python local_style_transfer.py --image_path './fg_bg/' --targets \"tv01, tv02, tv03, pillow00\" --vgg_path './pth/style_transfer/vgg_normalised.pth' --decoder_path './pth/style_transfer/decoder.pth' --content_image './data/train/images/kor_bedroom1.jpg' --style_image './data/style/modern/blue.jpg' --output_style_path './fg_bg/stylized.jpg' --style_intensity 'Middle' --fg_image_path \"./fg_bg/fg_result.jpg\" --bg_image_path \"./fg_bg/bg_result.jpg\" --stylized_image_path \"./fg_bg/stylized.jpg\" --output_local_style_path \"./local_stylized.jpg\""
   ]
  }
 ],
 "metadata": {
  "accelerator": "GPU",
  "colab": {
   "collapsed_sections": [
    "Pb4TAygwz7Q3"
   ],
   "name": "cs_entire_Local_Style_Transfer.ipynb",
   "provenance": []
  },
  "kernelspec": {
   "display_name": "Python 3",
   "language": "python",
   "name": "python3"
  },
  "language_info": {
   "codemirror_mode": {
    "name": "ipython",
    "version": 3
   },
   "file_extension": ".py",
   "mimetype": "text/x-python",
   "name": "python",
   "nbconvert_exporter": "python",
   "pygments_lexer": "ipython3",
   "version": "3.8.5"
  }
 },
 "nbformat": 4,
 "nbformat_minor": 1
}
